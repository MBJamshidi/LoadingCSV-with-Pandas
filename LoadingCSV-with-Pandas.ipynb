{
 "cells": [
  {
   "cell_type": "code",
   "execution_count": 1,
   "metadata": {},
   "outputs": [],
   "source": [
    "#Python Basics\n",
    "#Pandas\n",
    "#We have introduced Pandas here, a popular library for data analysis\n",
    "#We can import the library or a dependency like Pandas using the following command\n",
    "import pandas\n",
    "#We now have access to a large number of pre-built classes and functions\n",
    "\n",
    "#CSV Files\n",
    "#A CSV is a typical file type used to store data\n",
    "#Let's say we would like to load a CSV file using the Pandas built-in function, read csv\n",
    "#FileCSV=pandas.read_csv(File_CSV1_Path)\n",
    "#We simply typed the word Pandas,then a dot, and the name of the function with all the inputs\n",
    "File_CSV1_Path=\"C:/Users/VAIO/Desktop/Intuitive Deep Learning Tutorial/PandsWithBehdad.csv\"\n",
    "DataFrame1=pandas.read_csv(File_CSV1_Path)"
   ]
  },
  {
   "cell_type": "code",
   "execution_count": 2,
   "metadata": {},
   "outputs": [
    {
     "name": "stdout",
     "output_type": "stream",
     "text": [
      "        Behdad1  Behdad 2  Behdad 3  Behdad 4   WESTB1   WESTB2\n",
      "0        1.8674    5.7620  0.005599  1.446300 -0.13645   58.383\n",
      "1        7.1432    5.3920  0.009967  2.707900  0.59281   58.772\n",
      "2        7.3288    6.0089  0.009984  2.681900  0.52799   58.853\n",
      "3        7.5467    5.9852  0.009970  2.680900  0.47937   58.788\n",
      "4        7.7145    5.9101  0.009979  2.677100  0.43075   58.739\n",
      "...         ...       ...       ...       ...      ...      ...\n",
      "301674   7.8992    2.9119  0.000247 -0.016637  0.13905  303.840\n",
      "301675   7.9178    2.9476  0.000250 -0.006324  0.72246  304.740\n",
      "301676   7.9105    2.9258  0.000274 -0.011983  0.43075  304.660\n",
      "301677   7.8984    2.9487  0.000254  0.006129  0.20387  304.730\n",
      "301678   7.8943    3.0005  0.000310 -0.016449  0.17146  305.170\n",
      "\n",
      "[301679 rows x 6 columns]\n"
     ]
    }
   ],
   "source": [
    "#Typing Pandas all the time may get tedious\n",
    "#We can use the as statement to shorten the name of the library\n",
    "#In this case, we use the standard abbreviation, pd\n",
    "import pandas as pd\n",
    "File_CSV1_Path=\"C:/Users/VAIO/Desktop/Intuitive Deep Learning Tutorial/PandsWithBehdad.csv\"\n",
    "DataFrame1=pd.read_csv(File_CSV1_Path)\n",
    "print(DataFrame1)"
   ]
  },
  {
   "cell_type": "code",
   "execution_count": 3,
   "metadata": {},
   "outputs": [
    {
     "name": "stdout",
     "output_type": "stream",
     "text": [
      "        Behdad1  Behdad 2  Behdad 3  Behdad 4   WESTB1   WESTB2\n",
      "0        1.8674    5.7620  0.005599  1.446300 -0.13645   58.383\n",
      "1        7.1432    5.3920  0.009967  2.707900  0.59281   58.772\n",
      "2        7.3288    6.0089  0.009984  2.681900  0.52799   58.853\n",
      "3        7.5467    5.9852  0.009970  2.680900  0.47937   58.788\n",
      "4        7.7145    5.9101  0.009979  2.677100  0.43075   58.739\n",
      "...         ...       ...       ...       ...      ...      ...\n",
      "301674   7.8992    2.9119  0.000247 -0.016637  0.13905  303.840\n",
      "301675   7.9178    2.9476  0.000250 -0.006324  0.72246  304.740\n",
      "301676   7.9105    2.9258  0.000274 -0.011983  0.43075  304.660\n",
      "301677   7.8984    2.9487  0.000254  0.006129  0.20387  304.730\n",
      "301678   7.8943    3.0005  0.000310 -0.016449  0.17146  305.170\n",
      "\n",
      "[301679 rows x 6 columns]\n",
      "   Behdad1  Behdad 2  Behdad 3  Behdad 4   WESTB1  WESTB2\n",
      "0   1.8674    5.7620  0.005599    1.4463 -0.13645  58.383\n",
      "1   7.1432    5.3920  0.009967    2.7079  0.59281  58.772\n",
      "2   7.3288    6.0089  0.009984    2.6819  0.52799  58.853\n",
      "3   7.5467    5.9852  0.009970    2.6809  0.47937  58.788\n",
      "4   7.7145    5.9101  0.009979    2.6771  0.43075  58.739\n"
     ]
    }
   ],
   "source": [
    "#We are not limited to the abbreviation pd\n",
    "#In this case, we use the term BMJamshidi\n",
    "import pandas as BMJamshidi\n",
    "File_CSV1_Path=\"C:/Users/VAIO/Desktop/Intuitive Deep Learning Tutorial/PandsWithBehdad.csv\"\n",
    "DataFrame1=BMJamshidi.read_csv(File_CSV1_Path)\n",
    "\n",
    "#Let's examine this code more in-depth\n",
    "\n",
    "#Data Frame\n",
    "#One way Pandas allows you to work with data is with the data frame\n",
    "#Let's go over the process to go from a CSV file to a data frame\n",
    "#Head Method\n",
    "#We can use the method head to examine the first five rows of a data frame\n",
    "print(DataFrame1)\n",
    "print(DataFrame1.head())\n"
   ]
  }
 ],
 "metadata": {
  "kernelspec": {
   "display_name": "Python 3",
   "language": "python",
   "name": "python3"
  },
  "language_info": {
   "codemirror_mode": {
    "name": "ipython",
    "version": 3
   },
   "file_extension": ".py",
   "mimetype": "text/x-python",
   "name": "python",
   "nbconvert_exporter": "python",
   "pygments_lexer": "ipython3",
   "version": "3.7.6"
  }
 },
 "nbformat": 4,
 "nbformat_minor": 4
}
